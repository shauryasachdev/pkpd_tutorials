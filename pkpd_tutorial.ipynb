{
 "cells": [
  {
   "cell_type": "code",
   "execution_count": 132,
   "id": "27a16c71",
   "metadata": {},
   "outputs": [],
   "source": [
    "# Import Packages\n",
    "\n",
    "import numpy as np\n",
    "import matplotlib.pyplot as plt\n",
    "from scipy.optimize import minimize\n",
    "from sklearn.metrics import mean_squared_error, r2_score\n"
   ]
  },
  {
   "cell_type": "code",
   "execution_count": 133,
   "id": "f60ca3f3",
   "metadata": {},
   "outputs": [],
   "source": [
    "# Inputs\n",
    "\n",
    "cell_doubling = 17.0                   # cell doubling time (h)\n",
    "siRNA0 = 1500                          # transfection concentration (nM)\n",
    "transfection_time = 0.08               # time that the cells are exposed to siRNA (h)\n",
    "V_ex = 100 * 10 ** -6                  # transfection volume (L)\n",
    "V_in = 2000 * 10 ** -15                # Intracellular volume (L)\n",
    "\n",
    "# Conversions\n",
    "\n",
    "mol_M = 6.022 * 10 ** 23               # (number/mole)\n",
    "rtot = 1.9 * 10 ** 15                  # (number/L)\n",
    "r_tot = rtot/mol_M * (10 ** 9)         # nM\n",
    "\n",
    "# Rates\n",
    "\n",
    "siRNA_half_life = 24.0                 # siRNA half-life (h)\n",
    "mRNA_half_life = 7                     # mRNA half-life (h)\n",
    "prot_half_life = 26                    # protein half-life (h)\n",
    "\n",
    "k_sdeg = 0.69315 / siRNA_half_life     # (h^-1)\n",
    "k_sdil = 0.69315 / cell_doubling       # (h^-1)\n",
    "k_mRNA = 0.69315 / mRNA_half_life      # (h^-1)\n",
    "k_mdeg = 0.69315 / mRNA_half_life      # (h^-1)\n",
    "k_prot = 0.69315 / prot_half_life      # (h^-1)\n",
    "k_pdeg = 0.69315 / prot_half_life      # (h^-1)\n",
    "\n",
    "k_risc_orig = 2 * 10 ** -19            # (L/h/number)\n",
    "k_risc_M = k_risc_orig * mol_M         # (M^-1 h^-1)\n",
    "k_risc = k_risc_M * 10 ** -9           # (nM^-1 h^-1)\n",
    "\n",
    "k_cleav = 5 * 10 ** 2                  # (nm^-1 h^-1)\n",
    "\n",
    "k_rdeg = 0.077                         # (h^-1)"
   ]
  },
  {
   "cell_type": "code",
   "execution_count": 134,
   "id": "5a0d9ea9",
   "metadata": {},
   "outputs": [],
   "source": [
    "# Time and steps\n",
    "\n",
    "t0 = 0\n",
    "tf_transfection = 200.0                # total time of experiment?? (h)\n",
    "dt = 0.01                              # time step (h)\n",
    "t = np.linspace(t0,tf_transfection,int(tf_transfection/dt + dt))\n",
    "n = len(t)\n"
   ]
  },
  {
   "cell_type": "code",
   "execution_count": 135,
   "id": "0a29d962",
   "metadata": {},
   "outputs": [
    {
     "name": "stdout",
     "output_type": "stream",
     "text": [
      "[4800]\n"
     ]
    }
   ],
   "source": [
    "# Experimental Measurements\n",
    "x = [48]                               # time of measurement (h)\n",
    "y = [0.49]                             # relative gene expression levels\n",
    "\n",
    "# changing time points to array for optimization of code\n",
    "x_array = np.array(x)\n",
    "x_opt_array = x_array * 100\n",
    "x_indices_to_access = x_opt_array.tolist()\n",
    "print(x_indices_to_access)"
   ]
  },
  {
   "cell_type": "code",
   "execution_count": 136,
   "id": "d420c72c",
   "metadata": {},
   "outputs": [],
   "source": [
    "# Initial guess for internalization rate constant\n",
    "k_int_init = 2.5 * 10 ** -11 # h^-1\n",
    "\n",
    "# Define empty array for internalization rate\n",
    "optimized_kint = 0\n",
    "\n",
    "# Initial concentrations\n",
    "z0 = [siRNA0,0,0,100,100]               # External siRNA, intracellular siRNA, RISC, mRNA, prot\n",
    "DNA = 100\n",
    "\n",
    "# Unpopulated lists\n",
    "siRNA_ex = np.ones(n) * z0[0]\n",
    "siRNA = np.ones(n) * z0[1]\n",
    "RISC = np.ones(n) * z0[2]\n",
    "mRNA = np.ones(n) * z0[3]\n",
    "prot = np.ones(n) * z0[4]"
   ]
  },
  {
   "cell_type": "code",
   "execution_count": 137,
   "id": "b7b59af4",
   "metadata": {},
   "outputs": [
    {
     "name": "stdout",
     "output_type": "stream",
     "text": [
      "7.200000000000004e-11\n",
      "0.0008019945634711867\n"
     ]
    }
   ],
   "source": [
    "# optimization code\n",
    "\n",
    "def kint_rmse(k_int):\n",
    "    for i in range(1,n):\n",
    "        siRNA_ex[i] = (-k_int * siRNA_ex[i-1]) * dt + siRNA_ex[i-1]\n",
    "        if i > (transfection_time / dt):\n",
    "            siRNA_ex[i] = 0\n",
    "        siRNA[i] = ((k_int * (V_ex/V_in) * siRNA_ex[i-1]) - k_sdeg * siRNA[i-1] - k_sdil * siRNA[i-1]) * dt + siRNA[i-1]\n",
    "        RISC[i] = (k_risc * siRNA[i-1] * (r_tot - RISC[i-1]) - k_rdeg * RISC[i-1]) * dt + RISC[i-1]\n",
    "        if RISC[i] > r_tot:\n",
    "            RISC[i] = r_tot\n",
    "        mRNA[i] = (k_mRNA * DNA - k_mdeg * mRNA[i-1] - k_cleav * mRNA[i-1] * RISC[i-1]) * dt + mRNA[i-1]\n",
    "        if mRNA[i] < 0:\n",
    "            mRNA[i] = 0\n",
    "        prot[i] = (k_prot * mRNA[i-1] - k_pdeg * prot[i-1]) * dt + prot[i-1]\n",
    "        if prot[i] < 0:\n",
    "            prot[i] = 0\n",
    "        prot_norm = prot / z0[4]\n",
    "        prot_norm_array = np.array(prot_norm)\n",
    "        \n",
    "    y_pred_array = prot_norm_array[x_indices_to_access]\n",
    "    y_pred = list(y_pred_array)\n",
    "    rmse = np.sqrt(mean_squared_error(y,y_pred))\n",
    "        \n",
    "    return rmse\n",
    "    \n",
    "i = kint_rmse(k_int_init)\n",
    "updated_k_int = k_int_init + (0.1 * 10 ** -11)\n",
    "j = kint_rmse(updated_k_int)\n",
    "\n",
    "if i < j:\n",
    "    optimized_k_int = updated_k_int\n",
    "else:\n",
    "    while i > j:\n",
    "        i = j\n",
    "        optimized_k_int = updated_k_int\n",
    "        updated_k_int = updated_k_int + (0.1 * 10 ** -11)\n",
    "        j = kint_rmse(updated_k_int)\n",
    "    \n",
    "print(optimized_k_int)\n",
    "print(i)"
   ]
  },
  {
   "cell_type": "code",
   "execution_count": null,
   "id": "7a8689df",
   "metadata": {},
   "outputs": [],
   "source": []
  }
 ],
 "metadata": {
  "kernelspec": {
   "display_name": "Python 3 (ipykernel)",
   "language": "python",
   "name": "python3"
  },
  "language_info": {
   "codemirror_mode": {
    "name": "ipython",
    "version": 3
   },
   "file_extension": ".py",
   "mimetype": "text/x-python",
   "name": "python",
   "nbconvert_exporter": "python",
   "pygments_lexer": "ipython3",
   "version": "3.9.7"
  },
  "latex_envs": {
   "LaTeX_envs_menu_present": true,
   "autoclose": false,
   "autocomplete": true,
   "bibliofile": "biblio.bib",
   "cite_by": "apalike",
   "current_citInitial": 1,
   "eqLabelWithNumbers": true,
   "eqNumInitial": 1,
   "hotkeys": {
    "equation": "Ctrl-E",
    "itemize": "Ctrl-I"
   },
   "labels_anchors": false,
   "latex_user_defs": false,
   "report_style_numbering": false,
   "user_envs_cfg": false
  },
  "toc": {
   "base_numbering": 1,
   "nav_menu": {},
   "number_sections": true,
   "sideBar": true,
   "skip_h1_title": false,
   "title_cell": "Table of Contents",
   "title_sidebar": "Contents",
   "toc_cell": false,
   "toc_position": {},
   "toc_section_display": true,
   "toc_window_display": false
  }
 },
 "nbformat": 4,
 "nbformat_minor": 5
}
