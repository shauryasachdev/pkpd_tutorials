{
 "cells": [
  {
   "cell_type": "code",
   "execution_count": 34,
   "id": "244df5f6",
   "metadata": {},
   "outputs": [],
   "source": [
    "import numpy as  np\n",
    "import matplotlib.pyplot as plt"
   ]
  },
  {
   "cell_type": "code",
   "execution_count": 35,
   "id": "217fb06a",
   "metadata": {},
   "outputs": [],
   "source": [
    "# Inputs\n",
    "cell_doubling = 17.0                # cell doubling time (h)\n",
    "siRNA_half_life = 24.0              # siRNA half life (h)\n",
    "mRNA_half_life = 7                  # mRNA half life (h)\n",
    "prot_half_life = 26                 # protein half life (h)\n",
    "\n",
    "siRNA0 = 1500                       # extra cellular RNA transfection concentration (nM)\n",
    "transfection_time = 0.08            # time for which cells exposed to extra cellular RNA (h)\n",
    "\n",
    "V_ex = 100 * 10 ** -6               # transfection volume (L)\n",
    "V_in = 2000 * 10 ** -15             # intracellular volume (L)\n",
    "\n",
    "mol_M = 6.022 * 10 ** 23            # (number/mole)\n",
    "\n",
    "rtot = 1.9 * 10 ** 15               # (number/L)\n",
    "r_tot = rtot / mol_M * (10 ** 9)    # (nM)\n",
    "\n",
    "# Initial concentrations\n",
    "z0 = [siRNA0, 0, 0, 100, 100]        # External RNA, intracellular RNA, RISC, mRNA, prot\n",
    "DNA = 100                            # (nM)   \n",
    "\n",
    "siRNA_ex = np.ones(n) * z0[0]\n",
    "siRNA = np.ones(n) * z0[1]\n",
    "RISC = np.ones(n) * z0[2]\n",
    "mRNA = np.ones(n) * z0[3]\n",
    "prot = np.ones(n) * z0[4]"
   ]
  },
  {
   "cell_type": "code",
   "execution_count": 60,
   "id": "4aeb72a8",
   "metadata": {},
   "outputs": [],
   "source": [
    "# Rates\n",
    "k_sdeg = 0.69315 / siRNA_half_life    # (h^-1)       first order rate constant\n",
    "k_sdil = 0.69315 / cell_doubling      # (h^-1)       first order rate constant\n",
    "k_mRNA = 0.69315 / mRNA_half_life     # (h^-1)       first order rate constant\n",
    "k_mdeg = 0.69315 / mRNA_half_life     # (h^-1)       first order rate constant\n",
    "k_risc_orig = 2 * 10 ** -19           # (L/h/number) second order rate constant\n",
    "k_risc_M = k_risc_orig * mol_M        # (M^-1 h^-1)  secont order rate constant\n",
    "k_risc = k_risc_M * 10 ** -9          # (nM^-1 h^-1) second order rate constant\n",
    "k_cleav = 5 * 10 ** 2                # (nM^-1 h^-1) second order rate constant\n",
    "k_prot = 0.69315 / prot_half_life     # (h^-1)       first order rate constant\n",
    "k_pdeg = 0.69315 / prot_half_life     # (h^-1)       first order rate constant\n",
    "k_rdeg = 0.077                        # (h^-1)      first order rate constant\n",
    "\n",
    "k_int = 7.2 * 10 ** -11         # (h^-1) optimized rate constant (first order)"
   ]
  },
  {
   "cell_type": "code",
   "execution_count": 61,
   "id": "ddbff4aa",
   "metadata": {},
   "outputs": [],
   "source": [
    "# Time and steps\n",
    "t0 = 0\n",
    "tf_transfection = 200.0\n",
    "dt = 0.01\n",
    "t = np.linspace(t0,tf_transfection,int(tf_transfection/dt + dt))\n",
    "n = len(t)"
   ]
  },
  {
   "cell_type": "code",
   "execution_count": 62,
   "id": "f9850bc6",
   "metadata": {},
   "outputs": [
    {
     "name": "stdout",
     "output_type": "stream",
     "text": [
      "[1.         1.         1.         ... 0.97009534 0.97010325 0.97011115]\n",
      "[1.         1.         1.         ... 0.97009534 0.97010325 0.97011115]\n"
     ]
    }
   ],
   "source": [
    "# ODEs\n",
    "\n",
    "for i in range(1,n):\n",
    "    siRNA_ex[i] = (-k_int * siRNA_ex[i-1]) * dt + siRNA_ex[i-1]\n",
    "    if i > (transfection_time / dt):\n",
    "        siRNA_ex[i] = 0\n",
    "    siRNA[i] = ((k_int * (V_ex/V_in) * siRNA_ex[i-1]) - k_sdeg * siRNA[i-1] - k_sdil * siRNA[i-1]) * dt + siRNA[i-1]\n",
    "    RISC[i] = (k_risc * siRNA[i-1] *(r_tot - RISC[i-1]) - k_rdeg * RISC[i-1]) * dt + RISC[i-1]\n",
    "    if RISC[i] > r_tot:\n",
    "        RISC[i] = r_tot\n",
    "    mRNA[i] = (k_mRNA * DNA - k_mdeg * mRNA[i-1] - k_cleav * mRNA[i-1] * RISC[i-1]) * dt + mRNA[i-1]\n",
    "    if mRNA[i] < 0:\n",
    "        mRNA[i] = 0\n",
    "    prot[i] = (k_prot * mRNA[i-1] - k_pdeg * prot[i-1]) * dt + prot[i-1]\n",
    "    if prot[i] < 0:\n",
    "            prot[i] = 0\n",
    "    prot_norm = prot / z0[4]\n",
    "    prot_norm_array = np.array(prot_norm)\n",
    "    \n",
    "    \n",
    "print(prot_norm)\n",
    "print(prot_norm_array)"
   ]
  },
  {
   "cell_type": "code",
   "execution_count": 63,
   "id": "2e53cb41",
   "metadata": {},
   "outputs": [],
   "source": [
    "# Experimental Data\n",
    "x = [0, 24, 48, 72, 96, 168]              # time of measurement\n",
    "y = [1.00, 0.84, 0.49, 0.43, 0.50, 0.95]  # gene expression levels\n",
    "err1 = [0.00, 0.06, 0.04, 0.03, 0.04, 0.00]"
   ]
  },
  {
   "cell_type": "code",
   "execution_count": 64,
   "id": "1cc8459d",
   "metadata": {},
   "outputs": [
    {
     "data": {
      "text/plain": [
       "Text(0, 0.5, 'Relative GFP Expression')"
      ]
     },
     "execution_count": 64,
     "metadata": {},
     "output_type": "execute_result"
    },
    {
     "data": {
      "image/png": "[encoded data removed]",
      "text/plain": [
       "<Figure size 432x288 with 1 Axes>"
      ]
     },
     "metadata": {
      "needs_background": "light"
     },
     "output_type": "display_data"
    }
   ],
   "source": [
    "# Plotting\n",
    "\n",
    "plt.errorbar(x,y,yerr=err1,fmt= 'bo')\n",
    "plt.plot(t,prot_norm, 'k')\n",
    "plt.ylim(0,1.05)\n",
    "plt.yticks(np.arange(0,1.1,0.2))\n",
    "plt.xlim(0,193)\n",
    "plt.xticks(np.arange(0,193,24))\n",
    "plt.xlabel('Time(h)')\n",
    "plt.ylabel('Relative GFP Expression')"
   ]
  },
  {
   "cell_type": "code",
   "execution_count": null,
   "id": "63ddea85",
   "metadata": {},
   "outputs": [],
   "source": []
  }
 ],
 "metadata": {
  "kernelspec": {
   "display_name": "Python 3 (ipykernel)",
   "language": "python",
   "name": "python3"
  },
  "language_info": {
   "codemirror_mode": {
    "name": "ipython",
    "version": 3
   },
   "file_extension": ".py",
   "mimetype": "text/x-python",
   "name": "python",
   "nbconvert_exporter": "python",
   "pygments_lexer": "ipython3",
   "version": "3.9.7"
  },
  "latex_envs": {
   "LaTeX_envs_menu_present": true,
   "autoclose": false,
   "autocomplete": true,
   "bibliofile": "biblio.bib",
   "cite_by": "apalike",
   "current_citInitial": 1,
   "eqLabelWithNumbers": true,
   "eqNumInitial": 1,
   "hotkeys": {
    "equation": "Ctrl-E",
    "itemize": "Ctrl-I"
   },
   "labels_anchors": false,
   "latex_user_defs": false,
   "report_style_numbering": false,
   "user_envs_cfg": false
  },
  "toc": {
   "base_numbering": 1,
   "nav_menu": {},
   "number_sections": true,
   "sideBar": true,
   "skip_h1_title": false,
   "title_cell": "Table of Contents",
   "title_sidebar": "Contents",
   "toc_cell": false,
   "toc_position": {},
   "toc_section_display": true,
   "toc_window_display": false
  }
 },
 "nbformat": 4,
 "nbformat_minor": 5
}
